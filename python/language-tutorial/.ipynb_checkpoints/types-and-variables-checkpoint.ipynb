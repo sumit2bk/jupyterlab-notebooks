{
 "cells": [
  {
   "cell_type": "markdown",
   "id": "be7074fe-ba67-49e6-8591-150b47d1fa1b",
   "metadata": {},
   "source": [
    "# Variables, Types, and Expressions"
   ]
  },
  {
   "cell_type": "markdown",
   "id": "3318324f-af9e-4d83-931f-60b5ffb78a0c",
   "metadata": {},
   "source": [
    "Let's define some variable x and assign it a value 2. The below line where we write code is called **Cell** Jupyter Notebook. Click on the cell so that your cursor is in the cell box. Then press **Shift+Enter**. This is how you run the code in the cell. Notice the # sign after expression x = 2. This is how you write **Comments** in python. Comments are meant only for human and computer ignores them when it runs your code. So the only line that computer will run when you press **Shift+Enter** is **x = 2** which will assign value 2 to x variable."
   ]
  },
  {
   "cell_type": "code",
   "execution_count": 1,
   "id": "fbc51400-cb67-4bd2-ad9c-4c9e94f2ddda",
   "metadata": {},
   "outputs": [],
   "source": [
    "x = 2 # Assigned value to 2 to variable x."
   ]
  },
  {
   "cell_type": "markdown",
   "id": "c557ad52-464f-414d-b3cc-bf57fb545afd",
   "metadata": {},
   "source": [
    "Now how do you know for sure there is value 2 inside x variable ? Well, python provides some functionality to print value assigned to a variable. Run below line of code using **Shift+Enter**:"
   ]
  },
  {
   "cell_type": "code",
   "execution_count": null,
   "id": "35918ddc-0e23-417c-aaad-bb09023f2026",
   "metadata": {},
   "outputs": [],
   "source": [
    "print(x)"
   ]
  },
  {
   "cell_type": "markdown",
   "id": "56be0d9c-0b9c-4372-b902-3415c9771139",
   "metadata": {},
   "source": [
    "**print** is a *function* that takes some input using **()** and prints it to the console. In our case above it tool x variable as an input. Don't worry about what a function is. I haven't covered it yet. It will be covered in details in the Functions section later. We are using it here because it will help us in understanding the code."
   ]
  },
  {
   "cell_type": "markdown",
   "id": "80141d86-f267-4d96-97b8-32ae06dc901b",
   "metadata": {},
   "source": [
    "What do you think the **Type** of variable **x** is ?"
   ]
  },
  {
   "cell_type": "markdown",
   "id": "30907f59-c219-47b1-93c5-06b0a17d3d8c",
   "metadata": {},
   "source": [
    "<details>\n",
    "    <summary>Click here for the solution</summary>\n",
    "    \n",
    "    int\n",
    "</details>"
   ]
  },
  {
   "cell_type": "markdown",
   "id": "881cdfa5-4ac6-429d-870c-875e0092788c",
   "metadata": {},
   "source": [
    "\"I wish python had a way to tell us the type of the varialbe so that I don't have to guess the type of the variable\".  Is that what you thinking ? Well, think no more friends. There is another function in python that can tell you what the type of the variable is. Run below code using **Shift+Enter**"
   ]
  },
  {
   "cell_type": "code",
   "execution_count": 10,
   "id": "1356549d-c68a-4511-ba26-8ef205cbb01b",
   "metadata": {},
   "outputs": [],
   "source": [
    "type(x)"
   ]
  },
  {
   "cell_type": "markdown",
   "id": "7875ab7b-e027-4609-8526-bb7a66049e18",
   "metadata": {},
   "source": [
    "**type** is a function that takes an input and returns the **type** of that input."
   ]
  },
  {
   "cell_type": "code",
   "execution_count": 13,
   "id": "35405f87-8569-44fe-827f-82db235c0a66",
   "metadata": {},
   "outputs": [],
   "source": [
    "# Now practice time. Define a variable and assign any value which is of type string. Then print the value of the variable using print function.\n",
    "# Once done, press Shift+Enter to run your code and test your solution.\n",
    "\n",
    "\n"
   ]
  },
  {
   "cell_type": "markdown",
   "id": "62db5e87-53bb-42aa-b9ef-c745006201f0",
   "metadata": {},
   "source": [
    "<details>\n",
    "    <summary>Click here for the solution</summary>\n",
    "    \n",
    "    \n",
    "    name = 'superman' </br>\n",
    "    print(name)\n",
    "    \n",
    "</details>"
   ]
  }
 ],
 "metadata": {
  "kernelspec": {
   "display_name": "Python 3",
   "language": "python",
   "name": "python3"
  },
  "language_info": {
   "codemirror_mode": {
    "name": "ipython",
    "version": 3
   },
   "file_extension": ".py",
   "mimetype": "text/x-python",
   "name": "python",
   "nbconvert_exporter": "python",
   "pygments_lexer": "ipython3",
   "version": "3.8.8"
  }
 },
 "nbformat": 4,
 "nbformat_minor": 5
}
