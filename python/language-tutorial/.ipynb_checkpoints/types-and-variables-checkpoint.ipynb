{
 "cells": [
  {
   "cell_type": "markdown",
   "id": "be7074fe-ba67-49e6-8591-150b47d1fa1b",
   "metadata": {},
   "source": [
    "# Types"
   ]
  },
  {
   "cell_type": "markdown",
   "id": "3318324f-af9e-4d83-931f-60b5ffb78a0c",
   "metadata": {},
   "source": [
    "##      Integer"
   ]
  },
  {
   "cell_type": "code",
   "execution_count": 2,
   "id": "fbc51400-cb67-4bd2-ad9c-4c9e94f2ddda",
   "metadata": {},
   "outputs": [
    {
     "data": {
      "text/plain": [
       "2"
      ]
     },
     "execution_count": 2,
     "metadata": {},
     "output_type": "execute_result"
    }
   ],
   "source": [
    "1+1"
   ]
  },
  {
   "cell_type": "code",
   "execution_count": null,
   "id": "e2882a3a-8c28-4759-a254-250eaea380a2",
   "metadata": {},
   "outputs": [],
   "source": []
  }
 ],
 "metadata": {
  "kernelspec": {
   "display_name": "Python 3",
   "language": "python",
   "name": "python3"
  },
  "language_info": {
   "codemirror_mode": {
    "name": "ipython",
    "version": 3
   },
   "file_extension": ".py",
   "mimetype": "text/x-python",
   "name": "python",
   "nbconvert_exporter": "python",
   "pygments_lexer": "ipython3",
   "version": "3.8.8"
  }
 },
 "nbformat": 4,
 "nbformat_minor": 5
}
